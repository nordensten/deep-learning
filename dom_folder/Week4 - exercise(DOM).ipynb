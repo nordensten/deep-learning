{
 "cells": [
  {
   "cell_type": "markdown",
   "id": "fadb9a3f",
   "metadata": {},
   "source": [
    "# Week 4 - Regular Neural Networks"
   ]
  },
  {
   "cell_type": "markdown",
   "id": "f25d8651",
   "metadata": {},
   "source": [
    "## Starting off with the simplest example, simple perseptron with one input"
   ]
  },
  {
   "cell_type": "code",
   "execution_count": 1,
   "id": "4365e377",
   "metadata": {},
   "outputs": [],
   "source": [
    "import numpy as np\n",
    "import matplotlib.pyplot as plt"
   ]
  },
  {
   "cell_type": "code",
   "execution_count": 2,
   "id": "86a6f7bd",
   "metadata": {},
   "outputs": [],
   "source": [
    "def error(y_tilde, y):\n",
    "    return 0.5*(y_tilde - y)**2"
   ]
  },
  {
   "cell_type": "code",
   "execution_count": 3,
   "id": "dc09457f",
   "metadata": {},
   "outputs": [],
   "source": [
    "def feed_forward(x):\n",
    "    z = x*weight + bias\n",
    "    a = z #We drop the sigmoid function\n",
    "    \n",
    "    return a"
   ]
  },
  {
   "cell_type": "code",
   "execution_count": 4,
   "id": "6344ebc5",
   "metadata": {},
   "outputs": [],
   "source": [
    "def backpropagation(x, y):\n",
    "    a = feed_forward(x)\n",
    "    \n",
    "    #Now the derivatives\n",
    "    dCda = a - y\n",
    "    dadz = 1\n",
    "    dzdw = x\n",
    "    dzdb = 1\n",
    "    \n",
    "    dCdw = dCda*dadz*dzdw\n",
    "    dCdb = dCda*dadz*dzdb\n",
    "    \n",
    "    return dCdw, dCdb"
   ]
  },
  {
   "cell_type": "markdown",
   "id": "bc0c89fa",
   "metadata": {},
   "source": [
    "Now generate data"
   ]
  },
  {
   "cell_type": "code",
   "execution_count": 5,
   "id": "d7b541d1",
   "metadata": {},
   "outputs": [],
   "source": [
    "x = 4.0\n",
    "y = 2*x + 1.0"
   ]
  },
  {
   "cell_type": "markdown",
   "id": "b450ab0b",
   "metadata": {},
   "source": [
    "Now let us define the neural network itself:"
   ]
  },
  {
   "cell_type": "code",
   "execution_count": 6,
   "id": "b85801e2",
   "metadata": {},
   "outputs": [],
   "source": [
    "weight = np.random.randn() \n",
    "bias = np.random.randn()"
   ]
  },
  {
   "cell_type": "markdown",
   "id": "5e6cd38e",
   "metadata": {},
   "source": [
    "Now let us do the training itself!"
   ]
  },
  {
   "cell_type": "code",
   "execution_count": 7,
   "id": "1c560087",
   "metadata": {},
   "outputs": [
    {
     "name": "stdout",
     "output_type": "stream",
     "text": [
      "21.482000681422\n",
      "10.52618033389679\n",
      "5.15782836360943\n",
      "2.527335898168624\n",
      "1.2383945901026263\n",
      "0.6068133491502885\n",
      "0.297338541083643\n",
      "0.14569588513098547\n",
      "0.07139098371418261\n",
      "0.03498158201994929\n",
      "0.01714097518977528\n",
      "0.008399077842989934\n",
      "0.004115548143065133\n",
      "0.0020166185901018697\n",
      "0.0009881431091499004\n",
      "0.00048419012348342906\n",
      "0.00023725316050688026\n",
      "0.0001162540486483632\n",
      "5.696448383770365e-05\n",
      "2.7912597080468153e-05\n",
      "1.367717256942568e-05\n",
      "6.701814559021184e-06\n",
      "3.2838891339208357e-06\n",
      "1.6091056756199349e-06\n",
      "7.884617810533219e-07\n",
      "3.8634627271612776e-07\n",
      "1.893096736311212e-07\n",
      "9.276174007955543e-08\n",
      "4.5453252638982165e-08\n",
      "2.2272093793213733e-08\n"
     ]
    }
   ],
   "source": [
    "eta = 0.1\n",
    "for i in range(30):\n",
    "    dCdw, dCdb = backpropagation(x, y)\n",
    "    weight -= eta*dCdw\n",
    "    bias -= eta*dCdb\n",
    "    \n",
    "    y_tilde = weight*x + bias\n",
    "    print(error(y_tilde, y))"
   ]
  },
  {
   "cell_type": "markdown",
   "id": "ca53cc46",
   "metadata": {},
   "source": [
    "Let us try to plot it!"
   ]
  },
  {
   "cell_type": "code",
   "execution_count": 8,
   "id": "a52272e9",
   "metadata": {},
   "outputs": [
    {
     "data": {
      "image/png": "[encoded data removed]",
      "text/plain": [
       "<Figure size 432x288 with 1 Axes>"
      ]
     },
     "metadata": {
      "needs_background": "light"
     },
     "output_type": "display_data"
    }
   ],
   "source": [
    "x_test = np.linspace(0, 30, 50)\n",
    "\n",
    "def y_tilde(x):\n",
    "    return weight*x + bias\n",
    "\n",
    "def y(x):\n",
    "    return 2*x + 1\n",
    "\n",
    "plt.plot(x_test, y_tilde(x_test), label=\"ytilde\")\n",
    "plt.plot(x_test, y(x_test), label=\"real\")\n",
    "plt.legend()\n",
    "plt.grid(1)"
   ]
  },
  {
   "cell_type": "markdown",
   "id": "bcdfba51",
   "metadata": {},
   "source": [
    "It is clear that one input is no good to approximate a whole function. However, we managed to approximate that one point x=4 really well to out desired value. In order to approximate whole function, we need to expand our model to take multiple inputs."
   ]
  },
  {
   "cell_type": "markdown",
   "id": "1c5ec9a2",
   "metadata": {},
   "source": [
    "## Trying out with multiple inputs and outputs"
   ]
  },
  {
   "cell_type": "markdown",
   "id": "537190d5",
   "metadata": {},
   "source": [
    "All we have to change now is just the size of inputs and outputs, and also the shape of weights and biases. To do this, since we are adding just more inputs and outputs, we simply define a vector off all the inputs."
   ]
  },
  {
   "cell_type": "code",
   "execution_count": 29,
   "id": "540a0b4e",
   "metadata": {},
   "outputs": [],
   "source": [
    "x = np.linspace(0, 6, 50)\n",
    "y = np.sin(x)#2*x**2 + 1.0\n",
    "\n",
    "n_inputs = len(x)\n",
    "\n",
    "weight = np.random.randn(n_inputs)\n",
    "bias = np.random.randn(n_inputs)"
   ]
  },
  {
   "cell_type": "markdown",
   "id": "4d37fa1e",
   "metadata": {},
   "source": [
    "And now simply run the training again!"
   ]
  },
  {
   "cell_type": "code",
   "execution_count": 33,
   "id": "543b4565",
   "metadata": {},
   "outputs": [
    {
     "name": "stdout",
     "output_type": "stream",
     "text": [
      "0.10447522505794771\n",
      "0.09924751468914705\n",
      "0.09440679307965913\n",
      "0.08991461848764729\n",
      "0.08573724391067544\n",
      "0.08184494126235059\n",
      "0.07821143766539371\n",
      "0.07481344280363023\n",
      "0.07163025068682191\n",
      "0.06864340257505888\n",
      "0.06583640044022768\n",
      "0.0631944623976543\n",
      "0.060704313158643164\n",
      "0.0583540038361138\n",
      "0.05613275645706159\n",
      "0.054030829354623326\n",
      "0.05203940027284446\n",
      "0.050150464552319765\n",
      "0.04835674620057309\n",
      "0.046651620007434724\n",
      "0.04502904315846811\n",
      "0.043483495041031446\n",
      "0.042009924137593746\n",
      "0.040603701067212616\n",
      "0.039260576974814276\n",
      "0.03797664658406472\n",
      "0.036748315327183596\n",
      "0.03557227004727153\n",
      "0.034445452838224734\n",
      "0.033365037646242476\n",
      "0.032328409307049374\n",
      "0.031333144735693555\n",
      "0.030376996022331442\n",
      "0.02945787521874961\n",
      "0.028573840627316827\n",
      "0.027723084427280192\n",
      "0.0269039214933808\n",
      "0.026114779279138637\n",
      "0.02535418865223675\n",
      "0.02462077558255343\n",
      "0.023913253594828876\n",
      "0.02323041690794338\n",
      "0.022571134191531037\n",
      "0.02193434287832309\n",
      "0.02131904397735564\n",
      "0.02072429733910935\n",
      "0.020149217328880704\n",
      "0.019592968869305262\n",
      "0.019054763817041794\n",
      "0.018533857642247978\n",
      "0.01802954638269308\n",
      "0.017541163847208982\n",
      "0.017068079045722745\n",
      "0.016609693825378646\n",
      "0.01616544069427801\n",
      "0.015734780816170028\n",
      "0.015317202161040933\n",
      "0.014912217797993876\n",
      "0.01451936431810728\n",
      "0.014138200376121644\n",
      "0.013768305340848594\n",
      "0.013409278045134585\n",
      "0.013060735627056199\n",
      "0.012722312454784779\n",
      "0.012393659128244043\n",
      "0.0120744415513032\n",
      "0.011764340068807031\n",
      "0.011463048663249648\n",
      "0.011170274206355475\n",
      "0.010885735761244901\n"
     ]
    }
   ],
   "source": [
    "eta = 0.01\n",
    "for i in range(70):\n",
    "    dCdw, dCdb = backpropagation(x, y)\n",
    "    weight -= eta*dCdw\n",
    "    bias -= eta*dCdb\n",
    "    \n",
    "    y_tilde = weight*x + bias\n",
    "    print(np.mean(error(y_tilde, y)))"
   ]
  },
  {
   "cell_type": "markdown",
   "id": "8544ce35",
   "metadata": {},
   "source": [
    "Look at the results now"
   ]
  },
  {
   "cell_type": "code",
   "execution_count": 34,
   "id": "250aead6",
   "metadata": {},
   "outputs": [
    {
     "name": "stdout",
     "output_type": "stream",
     "text": [
      "0.010885735761244901\n"
     ]
    }
   ],
   "source": [
    "y_tilde = weight*x + bias\n",
    "# \n",
    "print(np.mean(error(y_tilde, y))) #Pretty neat"
   ]
  },
  {
   "cell_type": "code",
   "execution_count": 35,
   "id": "db311801",
   "metadata": {},
   "outputs": [
    {
     "data": {
      "image/png": "[encoded data removed]",
      "text/plain": [
       "<Figure size 432x288 with 1 Axes>"
      ]
     },
     "metadata": {
      "needs_background": "light"
     },
     "output_type": "display_data"
    }
   ],
   "source": [
    "plt.plot(x, y, label=\"real\")\n",
    "plt.plot(x, y_tilde, label=\"y_tilde\")\n",
    "plt.legend()\n",
    "plt.grid(1)"
   ]
  },
  {
   "cell_type": "markdown",
   "id": "033b8311",
   "metadata": {},
   "source": [
    "Fits like a perfectly fitted winter glove <3\n",
    "\n",
    "Okey one interesting part, why does the start fit so poorly? And as the x increases, the fit gets better and better?"
   ]
  },
  {
   "cell_type": "markdown",
   "id": "a647bb7a",
   "metadata": {},
   "source": [
    "## What if our function has multiple features, that is what if our function is multivariable?"
   ]
  },
  {
   "cell_type": "markdown",
   "id": "c7fd937d",
   "metadata": {},
   "source": [
    "In this case, all we have to do, is to just increase the dimensionality of input and output data. In addition, increase dimensionality in weights as well. This time, instead of working just with vectors, we need to introduce matrices. "
   ]
  },
  {
   "cell_type": "markdown",
   "id": "1508ac16",
   "metadata": {},
   "source": [
    "Our function now is:"
   ]
  },
  {
   "cell_type": "markdown",
   "id": "ed936a55",
   "metadata": {},
   "source": [
    "$$y = f(x_0, x_1) = x_0^2 + 3x_0x_1 + x_1^2 + 5$$"
   ]
  },
  {
   "cell_type": "code",
   "execution_count": 56,
   "id": "a9d0292d",
   "metadata": {},
   "outputs": [],
   "source": [
    "x_0, x_1 = np.linspace(0, 6, 50), np.linspace(0, 6, 50)\n",
    "X = np.array([x_0, x_1])\n",
    "\n",
    "y = X[0]**2 + 3*x[0]*x[1] + x[1]**2 + 5\n",
    "\n",
    "n_inputs = np.shape(X)[1]\n",
    "n_features = np.shape(X)[0]\n",
    "\n",
    "weight = np.random.randn(n_features, n_inputs)\n",
    "bias = np.random.randn(n_features, n_inputs)"
   ]
  },
  {
   "cell_type": "markdown",
   "id": "a277a2bf",
   "metadata": {},
   "source": [
    "Here you should do meshgrid stuff, but the main principle here is that you can add features."
   ]
  },
  {
   "cell_type": "code",
   "execution_count": 66,
   "id": "73830c66",
   "metadata": {},
   "outputs": [
    {
     "name": "stdout",
     "output_type": "stream",
     "text": [
      "120.76176399699285\n",
      "73.04666735795989\n",
      "47.36649551225349\n",
      "32.76993654301416\n",
      "23.987146013206626\n",
      "18.398576358708606\n",
      "14.652929885783955\n",
      "12.024048005163698\n",
      "10.104432535900655\n",
      "8.655128057053203\n",
      "7.529884184813319\n",
      "6.635523597092933\n",
      "5.910472912008709\n",
      "5.3126960138733\n",
      "4.812659785081649\n",
      "4.3890871862077105\n",
      "4.026307782015733\n",
      "3.7125544836498325\n",
      "3.4388384701595465\n",
      "3.198187705061598\n",
      "2.985120173974875\n",
      "2.795272281613506\n",
      "2.625132031092148\n",
      "2.4718443445100564\n",
      "2.333066929145573\n",
      "2.2068621279948175\n",
      "2.091614765680407\n",
      "1.9859690284266764\n",
      "1.888779455935383\n",
      "1.7990725178610905\n",
      "1.7160162154921748\n",
      "1.63889582984192\n",
      "1.5670944218694165\n",
      "1.5000770394784289\n",
      "1.4373778399657824\n",
      "1.3785895234215289\n",
      "1.3233546113280525\n",
      "1.271358208587391\n",
      "1.2223219658145519\n",
      "1.1759990186532163\n",
      "1.13216972690207\n",
      "1.0906380718682445\n",
      "1.0512285981366376\n",
      "1.0137838077391623\n",
      "0.9781619319227643\n",
      "0.9442350193954028\n",
      "0.9118872908640635\n",
      "0.8810137184677227\n",
      "0.8515187958092889\n",
      "0.823315470056745\n",
      "0.7963242122881106\n",
      "0.7704722061102907\n",
      "0.7456926377550539\n",
      "0.721924073477646\n",
      "0.6991099122588674\n",
      "0.6771979036226311\n",
      "0.656139721894225\n",
      "0.6358905894929721\n",
      "0.6164089429196008\n",
      "0.597656135998223\n",
      "0.5795961756936951\n",
      "0.5621954864704192\n",
      "0.5454226997073346\n",
      "0.5292484651515581\n",
      "0.5136452817927463\n",
      "0.49858734588248566\n",
      "0.4840504141167267\n",
      "0.4700116802518932\n",
      "0.45644966364299266\n",
      "0.4433441083800331\n",
      "0.4306758918616762\n",
      "0.4184269417859947\n",
      "0.40658016066057684\n",
      "0.3951193570406447\n",
      "0.38402918279657555\n",
      "0.3732950757931117\n",
      "0.3629032074332622\n",
      "0.3528404345817844\n",
      "0.34309425543739763\n",
      "0.33365276897051926\n",
      "0.32450463758519044\n",
      "0.3156390527007477\n",
      "0.30704570298130357\n",
      "0.29871474496981487\n",
      "0.2906367759088979\n",
      "0.28280280855302187\n",
      "0.2752042477966326\n",
      "0.2678328689604412\n",
      "0.260680797593823\n",
      "0.2537404906652641\n",
      "0.2470047190252426\n",
      "0.24046655103705564\n",
      "0.23411933728102496\n",
      "0.22795669624639522\n",
      "0.22197250093318605\n",
      "0.2161608662933849\n",
      "0.2105161374472618\n",
      "0.20503287861633196\n",
      "0.19970586271966162\n",
      "0.1945300615848643\n"
     ]
    }
   ],
   "source": [
    "eta = 0.01\n",
    "for i in range(100):\n",
    "    dCdw, dCdb = backpropagation(X, y)\n",
    "    weight -= eta*dCdw\n",
    "    bias -= eta*dCdb\n",
    "    \n",
    "    y_tilde = weight*x + bias\n",
    "    print(np.mean(error(y_tilde, y)))"
   ]
  },
  {
   "cell_type": "markdown",
   "id": "54688c8e",
   "metadata": {},
   "source": [
    "The results"
   ]
  },
  {
   "cell_type": "code",
   "execution_count": 67,
   "id": "2182bdd1",
   "metadata": {},
   "outputs": [],
   "source": [
    "\n",
    "# X0, X1 = np.meshgrid(x_0, x_1)\n",
    "# Y = X0**2 + 3*X0*X1 + X1**2 + 5\n",
    "\n",
    "# fig = plt.figure()\n",
    "# ax = fig.add_subplot(projection='3d')\n",
    "\n",
    "# ax.plot_surface(X0, X1, Y, label=\"Real\")\n",
    "\n",
    "\n",
    "# plt.show()\n",
    "\n",
    "#Ork "
   ]
  }
 ],
 "metadata": {
  "kernelspec": {
   "display_name": "Python 3 (ipykernel)",
   "language": "python",
   "name": "python3"
  },
  "language_info": {
   "codemirror_mode": {
    "name": "ipython",
    "version": 3
   },
   "file_extension": ".py",
   "mimetype": "text/x-python",
   "name": "python",
   "nbconvert_exporter": "python",
   "pygments_lexer": "ipython3",
   "version": "3.10.5"
  }
 },
 "nbformat": 4,
 "nbformat_minor": 5
}
